{
  "nbformat": 4,
  "nbformat_minor": 0,
  "metadata": {
    "colab": {
      "provenance": [],
      "include_colab_link": true
    },
    "kernelspec": {
      "name": "python3",
      "display_name": "Python 3"
    },
    "language_info": {
      "name": "python"
    }
  },
  "cells": [
    {
      "cell_type": "markdown",
      "metadata": {
        "id": "view-in-github",
        "colab_type": "text"
      },
      "source": [
        "<a href=\"https://colab.research.google.com/github/Thush-ar/fake-product-review-analyzer/blob/main/fake_product_review_analyser_using_SVM_and_ngrok.ipynb\" target=\"_parent\"><img src=\"https://colab.research.google.com/assets/colab-badge.svg\" alt=\"Open In Colab\"/></a>"
      ]
    },
    {
      "cell_type": "code",
      "source": [
        "!pip install streamlit joblib\n",
        "!npm install -g localtunnel\n",
        "!pip install pyngrok"
      ],
      "metadata": {
        "colab": {
          "base_uri": "https://localhost:8080/"
        },
        "id": "QautTyi5CKvA",
        "outputId": "d5092fc2-80d6-4c2b-c3be-290b7a37c698"
      },
      "execution_count": 27,
      "outputs": [
        {
          "output_type": "stream",
          "name": "stdout",
          "text": [
            "Requirement already satisfied: streamlit in /usr/local/lib/python3.12/dist-packages (1.49.1)\n",
            "Requirement already satisfied: joblib in /usr/local/lib/python3.12/dist-packages (1.5.2)\n",
            "Requirement already satisfied: altair!=5.4.0,!=5.4.1,<6,>=4.0 in /usr/local/lib/python3.12/dist-packages (from streamlit) (5.5.0)\n",
            "Requirement already satisfied: blinker<2,>=1.5.0 in /usr/local/lib/python3.12/dist-packages (from streamlit) (1.9.0)\n",
            "Requirement already satisfied: cachetools<7,>=4.0 in /usr/local/lib/python3.12/dist-packages (from streamlit) (5.5.2)\n",
            "Requirement already satisfied: click<9,>=7.0 in /usr/local/lib/python3.12/dist-packages (from streamlit) (8.2.1)\n",
            "Requirement already satisfied: numpy<3,>=1.23 in /usr/local/lib/python3.12/dist-packages (from streamlit) (2.0.2)\n",
            "Requirement already satisfied: packaging<26,>=20 in /usr/local/lib/python3.12/dist-packages (from streamlit) (25.0)\n",
            "Requirement already satisfied: pandas<3,>=1.4.0 in /usr/local/lib/python3.12/dist-packages (from streamlit) (2.2.2)\n",
            "Requirement already satisfied: pillow<12,>=7.1.0 in /usr/local/lib/python3.12/dist-packages (from streamlit) (11.3.0)\n",
            "Requirement already satisfied: protobuf<7,>=3.20 in /usr/local/lib/python3.12/dist-packages (from streamlit) (5.29.5)\n",
            "Requirement already satisfied: pyarrow>=7.0 in /usr/local/lib/python3.12/dist-packages (from streamlit) (18.1.0)\n",
            "Requirement already satisfied: requests<3,>=2.27 in /usr/local/lib/python3.12/dist-packages (from streamlit) (2.32.4)\n",
            "Requirement already satisfied: tenacity<10,>=8.1.0 in /usr/local/lib/python3.12/dist-packages (from streamlit) (8.5.0)\n",
            "Requirement already satisfied: toml<2,>=0.10.1 in /usr/local/lib/python3.12/dist-packages (from streamlit) (0.10.2)\n",
            "Requirement already satisfied: typing-extensions<5,>=4.4.0 in /usr/local/lib/python3.12/dist-packages (from streamlit) (4.15.0)\n",
            "Requirement already satisfied: watchdog<7,>=2.1.5 in /usr/local/lib/python3.12/dist-packages (from streamlit) (6.0.0)\n",
            "Requirement already satisfied: gitpython!=3.1.19,<4,>=3.0.7 in /usr/local/lib/python3.12/dist-packages (from streamlit) (3.1.45)\n",
            "Requirement already satisfied: pydeck<1,>=0.8.0b4 in /usr/local/lib/python3.12/dist-packages (from streamlit) (0.9.1)\n",
            "Requirement already satisfied: tornado!=6.5.0,<7,>=6.0.3 in /usr/local/lib/python3.12/dist-packages (from streamlit) (6.4.2)\n",
            "Requirement already satisfied: jinja2 in /usr/local/lib/python3.12/dist-packages (from altair!=5.4.0,!=5.4.1,<6,>=4.0->streamlit) (3.1.6)\n",
            "Requirement already satisfied: jsonschema>=3.0 in /usr/local/lib/python3.12/dist-packages (from altair!=5.4.0,!=5.4.1,<6,>=4.0->streamlit) (4.25.1)\n",
            "Requirement already satisfied: narwhals>=1.14.2 in /usr/local/lib/python3.12/dist-packages (from altair!=5.4.0,!=5.4.1,<6,>=4.0->streamlit) (2.3.0)\n",
            "Requirement already satisfied: gitdb<5,>=4.0.1 in /usr/local/lib/python3.12/dist-packages (from gitpython!=3.1.19,<4,>=3.0.7->streamlit) (4.0.12)\n",
            "Requirement already satisfied: python-dateutil>=2.8.2 in /usr/local/lib/python3.12/dist-packages (from pandas<3,>=1.4.0->streamlit) (2.9.0.post0)\n",
            "Requirement already satisfied: pytz>=2020.1 in /usr/local/lib/python3.12/dist-packages (from pandas<3,>=1.4.0->streamlit) (2025.2)\n",
            "Requirement already satisfied: tzdata>=2022.7 in /usr/local/lib/python3.12/dist-packages (from pandas<3,>=1.4.0->streamlit) (2025.2)\n",
            "Requirement already satisfied: charset_normalizer<4,>=2 in /usr/local/lib/python3.12/dist-packages (from requests<3,>=2.27->streamlit) (3.4.3)\n",
            "Requirement already satisfied: idna<4,>=2.5 in /usr/local/lib/python3.12/dist-packages (from requests<3,>=2.27->streamlit) (3.10)\n",
            "Requirement already satisfied: urllib3<3,>=1.21.1 in /usr/local/lib/python3.12/dist-packages (from requests<3,>=2.27->streamlit) (2.5.0)\n",
            "Requirement already satisfied: certifi>=2017.4.17 in /usr/local/lib/python3.12/dist-packages (from requests<3,>=2.27->streamlit) (2025.8.3)\n",
            "Requirement already satisfied: smmap<6,>=3.0.1 in /usr/local/lib/python3.12/dist-packages (from gitdb<5,>=4.0.1->gitpython!=3.1.19,<4,>=3.0.7->streamlit) (5.0.2)\n",
            "Requirement already satisfied: MarkupSafe>=2.0 in /usr/local/lib/python3.12/dist-packages (from jinja2->altair!=5.4.0,!=5.4.1,<6,>=4.0->streamlit) (3.0.2)\n",
            "Requirement already satisfied: attrs>=22.2.0 in /usr/local/lib/python3.12/dist-packages (from jsonschema>=3.0->altair!=5.4.0,!=5.4.1,<6,>=4.0->streamlit) (25.3.0)\n",
            "Requirement already satisfied: jsonschema-specifications>=2023.03.6 in /usr/local/lib/python3.12/dist-packages (from jsonschema>=3.0->altair!=5.4.0,!=5.4.1,<6,>=4.0->streamlit) (2025.4.1)\n",
            "Requirement already satisfied: referencing>=0.28.4 in /usr/local/lib/python3.12/dist-packages (from jsonschema>=3.0->altair!=5.4.0,!=5.4.1,<6,>=4.0->streamlit) (0.36.2)\n",
            "Requirement already satisfied: rpds-py>=0.7.1 in /usr/local/lib/python3.12/dist-packages (from jsonschema>=3.0->altair!=5.4.0,!=5.4.1,<6,>=4.0->streamlit) (0.27.1)\n",
            "Requirement already satisfied: six>=1.5 in /usr/local/lib/python3.12/dist-packages (from python-dateutil>=2.8.2->pandas<3,>=1.4.0->streamlit) (1.17.0)\n",
            "\u001b[1G\u001b[0K⠙\u001b[1G\u001b[0K⠹\u001b[1G\u001b[0K⠸\u001b[1G\u001b[0K⠼\u001b[1G\u001b[0K⠴\u001b[1G\u001b[0K⠦\u001b[1G\u001b[0K⠧\u001b[1G\u001b[0K⠇\u001b[1G\u001b[0K⠏\u001b[1G\u001b[0K⠋\u001b[1G\u001b[0K⠙\u001b[1G\u001b[0K⠹\u001b[1G\u001b[0K⠸\u001b[1G\u001b[0K⠼\u001b[1G\u001b[0K⠴\u001b[1G\u001b[0K⠦\u001b[1G\u001b[0K⠧\u001b[1G\u001b[0K⠇\u001b[1G\u001b[0K⠏\u001b[1G\u001b[0K⠋\u001b[1G\u001b[0K⠙\u001b[1G\u001b[0K⠹\u001b[1G\u001b[0K⠸\u001b[1G\u001b[0K⠼\u001b[1G\u001b[0K⠴\u001b[1G\u001b[0K⠦\u001b[1G\u001b[0K⠧\u001b[1G\u001b[0K⠇\u001b[1G\u001b[0K⠏\u001b[1G\u001b[0K⠋\u001b[1G\u001b[0K⠙\u001b[1G\u001b[0K⠹\u001b[1G\u001b[0K⠸\u001b[1G\u001b[0K⠼\u001b[1G\u001b[0K⠴\u001b[1G\u001b[0K⠦\u001b[1G\u001b[0K\n",
            "changed 22 packages in 3s\n",
            "\u001b[1G\u001b[0K⠦\u001b[1G\u001b[0K\n",
            "\u001b[1G\u001b[0K⠦\u001b[1G\u001b[0K3 packages are looking for funding\n",
            "\u001b[1G\u001b[0K⠦\u001b[1G\u001b[0K  run `npm fund` for details\n",
            "\u001b[1G\u001b[0K⠦\u001b[1G\u001b[0KRequirement already satisfied: pyngrok in /usr/local/lib/python3.12/dist-packages (7.3.0)\n",
            "Requirement already satisfied: PyYAML>=5.1 in /usr/local/lib/python3.12/dist-packages (from pyngrok) (6.0.2)\n"
          ]
        }
      ]
    },
    {
      "cell_type": "code",
      "source": [
        "%%writefile app.py\n",
        "import streamlit as st\n",
        "import pandas as pd\n",
        "from sklearn.feature_extraction.text import TfidfVectorizer\n",
        "from sklearn.preprocessing import StandardScaler\n",
        "from sklearn.svm import LinearSVC\n",
        "from sklearn.calibration import CalibratedClassifierCV\n",
        "from sklearn.model_selection import train_test_split\n",
        "from sklearn.metrics import accuracy_score, classification_report\n",
        "from scipy.sparse import hstack\n",
        "import joblib\n",
        "\n",
        "st.set_page_config(page_title=\"Fake Review Detector (SVM)\", layout=\"centered\")\n",
        "st.title(\"🕵️‍♂️ Fake vs Genuine Product Review Detector\")\n",
        "st.write(\"Upload a dataset, train the model, and classify reviews as Genuine or Fake using both review text and rating.\")\n",
        "\n",
        "@st.cache_data\n",
        "def train_model(df, text_col='text_', rating_col='rating', label_col='label'):\n",
        "    X_text = df[text_col].astype(str)\n",
        "    X_rating = df[rating_col].values.reshape(-1,1)\n",
        "    # Convert label to numeric automatically\n",
        "    y = df[label_col].map(lambda x: 1 if str(x).lower().startswith('c') else 0)  # CG=1, DG=0 etc.\n",
        "\n",
        "    X_train_text, X_val_text, X_train_rating, X_val_rating, y_train, y_val = train_test_split(\n",
        "        X_text, X_rating, y, test_size=0.2, random_state=42, stratify=y)\n",
        "\n",
        "    tfidf = TfidfVectorizer(ngram_range=(1,2), max_df=0.85, min_df=1)\n",
        "    tfidf.fit(X_train_text)\n",
        "    X_train_tfidf = tfidf.transform(X_train_text)\n",
        "    X_val_tfidf = tfidf.transform(X_val_text)\n",
        "\n",
        "    scaler = StandardScaler()\n",
        "    X_train_rating_scaled = scaler.fit_transform(X_train_rating)\n",
        "    X_val_rating_scaled = scaler.transform(X_val_rating)\n",
        "\n",
        "    X_train_combined = hstack([X_train_tfidf, X_train_rating_scaled])\n",
        "    X_val_combined = hstack([X_val_tfidf, X_val_rating_scaled])\n",
        "\n",
        "    svc = LinearSVC(class_weight='balanced', max_iter=5000)\n",
        "    calibrated = CalibratedClassifierCV(svc)\n",
        "    calibrated.fit(X_train_combined, y_train)\n",
        "\n",
        "    preds = calibrated.predict(X_val_combined)\n",
        "    acc = accuracy_score(y_val, preds)\n",
        "    report = classification_report(y_val, preds, zero_division=0)\n",
        "\n",
        "    joblib.dump(tfidf, 'tfidf.joblib')\n",
        "    joblib.dump(scaler, 'rating_scaler.joblib')\n",
        "    joblib.dump(calibrated, 'svm_review_model.joblib')\n",
        "\n",
        "    return acc, report\n",
        "\n",
        "# Sidebar upload\n",
        "st.sidebar.header(\"Upload your dataset\")\n",
        "uploaded_file = st.sidebar.file_uploader(\"Upload CSV with 'text_', 'rating', 'label'\", type=[\"csv\"])\n",
        "\n",
        "if uploaded_file is not None:\n",
        "    df = pd.read_csv(uploaded_file)\n",
        "    st.sidebar.success(f\"Loaded dataset with {len(df)} rows.\")\n",
        "    acc, report = train_model(df)\n",
        "    st.sidebar.success(f\"Validation Accuracy: {acc:.3f}\")\n",
        "    st.sidebar.text_area(\"Validation report\", value=report, height=200)\n",
        "\n",
        "    # Load trained components\n",
        "    tfidf = joblib.load('tfidf.joblib')\n",
        "    scaler = joblib.load('rating_scaler.joblib')\n",
        "    model = joblib.load('svm_review_model.joblib')\n",
        "\n",
        "    st.header(\"Classify a Review\")\n",
        "    user_text = st.text_area(\"Enter a product review to classify:\", height=160)\n",
        "\n",
        "    # Full star options\n",
        "    star_choices = [\"⭐\", \"⭐⭐\", \"⭐⭐⭐\", \"⭐⭐⭐⭐\", \"⭐⭐⭐⭐⭐\"]\n",
        "    selected_stars = st.radio(\"Click on stars to choose rating:\", star_choices, index=2)\n",
        "\n",
        "    # Convert stars to numeric rating (1–5)\n",
        "    user_rating = star_choices.index(selected_stars) + 1\n",
        "    st.write(f\"Selected Rating: {user_rating} {selected_stars}\")\n",
        "\n",
        "    if st.button(\"Classify\"):\n",
        "        if not user_text.strip():\n",
        "            st.error(\"Please enter a review text first.\")\n",
        "        else:\n",
        "            X_text = tfidf.transform([user_text])\n",
        "            rating_scaled = scaler.transform([[user_rating]])\n",
        "            X_combined = hstack([X_text, rating_scaled])\n",
        "            pred_proba = model.predict_proba(X_combined)[0]\n",
        "            pred_label = int(pred_proba.argmax())\n",
        "            confidence = pred_proba.max()\n",
        "            label_name = \"Genuine\" if pred_label == 1 else \"Fake\"\n",
        "            st.subheader(f\"Prediction: {label_name}\")\n",
        "            st.write(f\"Confidence: {confidence:.2%}\")\n",
        "else:\n",
        "    st.info(\"Upload a dataset in the sidebar to train the model.\")\n"
      ],
      "metadata": {
        "colab": {
          "base_uri": "https://localhost:8080/"
        },
        "id": "KpmKvRId4OA2",
        "outputId": "3f559630-2f83-405b-aa96-8eb7edb51b64"
      },
      "execution_count": 28,
      "outputs": [
        {
          "output_type": "stream",
          "name": "stdout",
          "text": [
            "Overwriting app.py\n"
          ]
        }
      ]
    },
    {
      "cell_type": "code",
      "source": [
        "from pyngrok import ngrok\n",
        "\n",
        "#note: ivide ningalude own keys upayogikanam. sign up in ngrok to get the key\n",
        "ngrok.set_auth_token(\"32lQcpyElc6ZG3yHYYBt2HKOO53_6CFc6gftegh29dJRTmkKs\")\n"
      ],
      "metadata": {
        "id": "inOC0aOU61jO"
      },
      "execution_count": 29,
      "outputs": []
    },
    {
      "cell_type": "code",
      "source": [
        "from pyngrok import ngrok\n",
        "import os\n",
        "import time\n",
        "\n",
        "\n",
        "try:\n",
        "  public_url = ngrok.connect(8501)\n",
        "  print(\"Streamlit public URL:\", public_url)\n",
        "except Exception as e:\n",
        "  print(f\"An error occurred: {e}\")\n",
        "  print(\"Attempting to reconnect after killing ngrok process...\")\n",
        "  os.system('ngrok kill') # Ensure ngrok is killed again if the first attempt failed\n",
        "  time.sleep(2) # Add a short delay\n",
        "  public_url = ngrok.connect(8501)\n",
        "  print(\"Streamlit public URL:\", public_url)\n",
        "\n",
        "# Start a tunnel to the Streamlit port\n",
        "\n",
        "\n",
        "# Launch Streamlit app\n",
        "get_ipython().system('streamlit run app.py &>/dev/null &')"
      ],
      "metadata": {
        "colab": {
          "base_uri": "https://localhost:8080/"
        },
        "id": "T1Shm3Sb8cge",
        "outputId": "53739710-79b0-4496-eefc-206ab8bba6e3"
      },
      "execution_count": 30,
      "outputs": [
        {
          "output_type": "stream",
          "name": "stdout",
          "text": [
            "Streamlit public URL: NgrokTunnel: \"https://cac17ce9e8fd.ngrok-free.app\" -> \"http://localhost:8501\"\n"
          ]
        }
      ]
    }
  ]
}